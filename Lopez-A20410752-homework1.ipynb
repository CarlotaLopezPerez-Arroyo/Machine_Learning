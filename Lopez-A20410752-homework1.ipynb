{
 "cells": [
  {
   "cell_type": "markdown",
   "metadata": {},
   "source": [
    "These are the libraries that we are using:"
   ]
  },
  {
   "cell_type": "code",
   "execution_count": 1,
   "metadata": {
    "collapsed": true
   },
   "outputs": [],
   "source": [
    "import pandas as pd\n",
    "import numpy as np\n",
    "from sklearn.tree import DecisionTreeClassifier\n",
    "from sklearn.metrics import accuracy_score, precision_score, recall_score, mean_squared_error\n",
    "from sklearn.model_selection import cross_val_score\n",
    "from sklearn.naive_bayes import GaussianNB\n",
    "from sklearn.svm import LinearSVC\n",
    "from sklearn.linear_model import LinearRegression, RidgeCV\n",
    "from sklearn.preprocessing import PolynomialFeatures"
   ]
  },
  {
   "cell_type": "markdown",
   "metadata": {},
   "source": [
    "# 1. Decision Tree\n",
    "## a) Creating highCrime"
   ]
  },
  {
   "cell_type": "code",
   "execution_count": 213,
   "metadata": {
    "scrolled": true
   },
   "outputs": [
    {
     "data": {
      "text/html": [
       "<div>\n",
       "<style>\n",
       "    .dataframe thead tr:only-child th {\n",
       "        text-align: right;\n",
       "    }\n",
       "\n",
       "    .dataframe thead th {\n",
       "        text-align: left;\n",
       "    }\n",
       "\n",
       "    .dataframe tbody tr th {\n",
       "        vertical-align: top;\n",
       "    }\n",
       "</style>\n",
       "<table border=\"1\" class=\"dataframe\">\n",
       "  <thead>\n",
       "    <tr style=\"text-align: right;\">\n",
       "      <th></th>\n",
       "      <th>state</th>\n",
       "      <th>communityname</th>\n",
       "      <th>fold</th>\n",
       "      <th>population</th>\n",
       "      <th>householdsize</th>\n",
       "      <th>racepctblack</th>\n",
       "      <th>racePctWhite</th>\n",
       "      <th>racePctAsian</th>\n",
       "      <th>racePctHisp</th>\n",
       "      <th>agePct12t21</th>\n",
       "      <th>...</th>\n",
       "      <th>PctForeignBorn</th>\n",
       "      <th>PctBornSameState</th>\n",
       "      <th>PctSameHouse85</th>\n",
       "      <th>PctSameCity85</th>\n",
       "      <th>PctSameState85</th>\n",
       "      <th>LandArea</th>\n",
       "      <th>PopDens</th>\n",
       "      <th>PctUsePubTrans</th>\n",
       "      <th>LemasPctOfficDrugUn</th>\n",
       "      <th>ViolentCrimesPerPop</th>\n",
       "    </tr>\n",
       "  </thead>\n",
       "  <tbody>\n",
       "    <tr>\n",
       "      <th>0</th>\n",
       "      <td>1</td>\n",
       "      <td>Alabastercity</td>\n",
       "      <td>7</td>\n",
       "      <td>0.01</td>\n",
       "      <td>0.61</td>\n",
       "      <td>0.21</td>\n",
       "      <td>0.83</td>\n",
       "      <td>0.02</td>\n",
       "      <td>0.01</td>\n",
       "      <td>0.41</td>\n",
       "      <td>...</td>\n",
       "      <td>0.03</td>\n",
       "      <td>0.70</td>\n",
       "      <td>0.40</td>\n",
       "      <td>0.34</td>\n",
       "      <td>0.57</td>\n",
       "      <td>0.05</td>\n",
       "      <td>0.06</td>\n",
       "      <td>0.01</td>\n",
       "      <td>0.0</td>\n",
       "      <td>0.06</td>\n",
       "    </tr>\n",
       "    <tr>\n",
       "      <th>1</th>\n",
       "      <td>1</td>\n",
       "      <td>AlexanderCitycity</td>\n",
       "      <td>10</td>\n",
       "      <td>0.01</td>\n",
       "      <td>0.41</td>\n",
       "      <td>0.55</td>\n",
       "      <td>0.57</td>\n",
       "      <td>0.01</td>\n",
       "      <td>0.00</td>\n",
       "      <td>0.47</td>\n",
       "      <td>...</td>\n",
       "      <td>0.00</td>\n",
       "      <td>0.93</td>\n",
       "      <td>0.66</td>\n",
       "      <td>0.82</td>\n",
       "      <td>0.84</td>\n",
       "      <td>0.11</td>\n",
       "      <td>0.03</td>\n",
       "      <td>0.01</td>\n",
       "      <td>0.0</td>\n",
       "      <td>0.14</td>\n",
       "    </tr>\n",
       "    <tr>\n",
       "      <th>2</th>\n",
       "      <td>1</td>\n",
       "      <td>Annistoncity</td>\n",
       "      <td>3</td>\n",
       "      <td>0.03</td>\n",
       "      <td>0.34</td>\n",
       "      <td>0.86</td>\n",
       "      <td>0.30</td>\n",
       "      <td>0.04</td>\n",
       "      <td>0.01</td>\n",
       "      <td>0.41</td>\n",
       "      <td>...</td>\n",
       "      <td>0.04</td>\n",
       "      <td>0.77</td>\n",
       "      <td>0.59</td>\n",
       "      <td>0.70</td>\n",
       "      <td>0.64</td>\n",
       "      <td>0.06</td>\n",
       "      <td>0.11</td>\n",
       "      <td>0.04</td>\n",
       "      <td>0.0</td>\n",
       "      <td>1.00</td>\n",
       "    </tr>\n",
       "    <tr>\n",
       "      <th>3</th>\n",
       "      <td>1</td>\n",
       "      <td>Athenscity</td>\n",
       "      <td>8</td>\n",
       "      <td>0.01</td>\n",
       "      <td>0.38</td>\n",
       "      <td>0.35</td>\n",
       "      <td>0.71</td>\n",
       "      <td>0.04</td>\n",
       "      <td>0.01</td>\n",
       "      <td>0.39</td>\n",
       "      <td>...</td>\n",
       "      <td>0.03</td>\n",
       "      <td>0.78</td>\n",
       "      <td>0.56</td>\n",
       "      <td>0.67</td>\n",
       "      <td>0.71</td>\n",
       "      <td>0.09</td>\n",
       "      <td>0.05</td>\n",
       "      <td>0.00</td>\n",
       "      <td>0.0</td>\n",
       "      <td>0.23</td>\n",
       "    </tr>\n",
       "    <tr>\n",
       "      <th>4</th>\n",
       "      <td>1</td>\n",
       "      <td>Auburncity</td>\n",
       "      <td>1</td>\n",
       "      <td>0.04</td>\n",
       "      <td>0.37</td>\n",
       "      <td>0.32</td>\n",
       "      <td>0.70</td>\n",
       "      <td>0.21</td>\n",
       "      <td>0.02</td>\n",
       "      <td>1.00</td>\n",
       "      <td>...</td>\n",
       "      <td>0.12</td>\n",
       "      <td>0.49</td>\n",
       "      <td>0.12</td>\n",
       "      <td>0.00</td>\n",
       "      <td>0.15</td>\n",
       "      <td>0.09</td>\n",
       "      <td>0.09</td>\n",
       "      <td>0.01</td>\n",
       "      <td>0.0</td>\n",
       "      <td>0.15</td>\n",
       "    </tr>\n",
       "  </tbody>\n",
       "</table>\n",
       "<p>5 rows × 104 columns</p>\n",
       "</div>"
      ],
      "text/plain": [
       "   state      communityname  fold  population  householdsize  racepctblack  \\\n",
       "0      1      Alabastercity     7        0.01           0.61          0.21   \n",
       "1      1  AlexanderCitycity    10        0.01           0.41          0.55   \n",
       "2      1       Annistoncity     3        0.03           0.34          0.86   \n",
       "3      1         Athenscity     8        0.01           0.38          0.35   \n",
       "4      1         Auburncity     1        0.04           0.37          0.32   \n",
       "\n",
       "   racePctWhite  racePctAsian  racePctHisp  agePct12t21         ...           \\\n",
       "0          0.83          0.02         0.01         0.41         ...            \n",
       "1          0.57          0.01         0.00         0.47         ...            \n",
       "2          0.30          0.04         0.01         0.41         ...            \n",
       "3          0.71          0.04         0.01         0.39         ...            \n",
       "4          0.70          0.21         0.02         1.00         ...            \n",
       "\n",
       "   PctForeignBorn  PctBornSameState  PctSameHouse85  PctSameCity85  \\\n",
       "0            0.03              0.70            0.40           0.34   \n",
       "1            0.00              0.93            0.66           0.82   \n",
       "2            0.04              0.77            0.59           0.70   \n",
       "3            0.03              0.78            0.56           0.67   \n",
       "4            0.12              0.49            0.12           0.00   \n",
       "\n",
       "   PctSameState85  LandArea  PopDens  PctUsePubTrans  LemasPctOfficDrugUn  \\\n",
       "0            0.57      0.05     0.06            0.01                  0.0   \n",
       "1            0.84      0.11     0.03            0.01                  0.0   \n",
       "2            0.64      0.06     0.11            0.04                  0.0   \n",
       "3            0.71      0.09     0.05            0.00                  0.0   \n",
       "4            0.15      0.09     0.09            0.01                  0.0   \n",
       "\n",
       "   ViolentCrimesPerPop  \n",
       "0                 0.06  \n",
       "1                 0.14  \n",
       "2                 1.00  \n",
       "3                 0.23  \n",
       "4                 0.15  \n",
       "\n",
       "[5 rows x 104 columns]"
      ]
     },
     "execution_count": 213,
     "metadata": {},
     "output_type": "execute_result"
    }
   ],
   "source": [
    "data_clean=pd.read_csv('C:/Users/Carru/Documents/Trabajos Carlota/ERASMUS/IIT/CS595-Data Science Analytics/Project/Crime Prediction Data/communities-crime-clean.csv')\n",
    "data_clean.head() #we check that the data is loaded correctly"
   ]
  },
  {
   "cell_type": "code",
   "execution_count": 214,
   "metadata": {
    "collapsed": true
   },
   "outputs": [],
   "source": [
    "highCrime=[]\n",
    "for i in range(len(data_clean)):\n",
    "    highCrime.append(data_clean.ViolentCrimesPerPop[i] > 0.1)\n",
    "data_clean['highCrime']=highCrime"
   ]
  },
  {
   "cell_type": "markdown",
   "metadata": {},
   "source": [
    "#### What are the percentage of positive and negative instances in the dataset?"
   ]
  },
  {
   "cell_type": "code",
   "execution_count": 215,
   "metadata": {
    "scrolled": false
   },
   "outputs": [
    {
     "name": "stdout",
     "output_type": "stream",
     "text": [
      "The percentage of positive is:  62.719518314099346\n",
      "The percentage of negative is:  37.280481685900654\n"
     ]
    }
   ],
   "source": [
    "perc_p= (highCrime.count(True)/len(data_clean))*100\n",
    "perc_n= (highCrime.count(False)/len(data_clean))*100\n",
    "print('The percentage of positive is: ', perc_p)\n",
    "print('The percentage of negative is: ', perc_n)"
   ]
  },
  {
   "cell_type": "markdown",
   "metadata": {},
   "source": [
    "## b) Decision Tree Classifier"
   ]
  },
  {
   "cell_type": "code",
   "execution_count": 216,
   "metadata": {
    "scrolled": true
   },
   "outputs": [
    {
     "data": {
      "text/plain": [
       "DecisionTreeClassifier(class_weight=None, criterion='gini', max_depth=None,\n",
       "            max_features=None, max_leaf_nodes=None,\n",
       "            min_impurity_decrease=0.0, min_impurity_split=None,\n",
       "            min_samples_leaf=1, min_samples_split=2,\n",
       "            min_weight_fraction_leaf=0.0, presort=False, random_state=0,\n",
       "            splitter='best')"
      ]
     },
     "execution_count": 216,
     "metadata": {},
     "output_type": "execute_result"
    }
   ],
   "source": [
    "dt = DecisionTreeClassifier(random_state=0)\n",
    "data=data_clean.drop(['state', 'fold', 'communityname', 'highCrime', 'ViolentCrimesPerPop'],1)\n",
    "#From the communities-names.txt we see that neither county, community, communityname, state nor fold should be included\n",
    "#in the model, since they are non-predictive. In the data_clean dataset county and community have already been removed\n",
    "\n",
    "y=np.asarray(highCrime)\n",
    "dt.fit(data, y)"
   ]
  },
  {
   "cell_type": "code",
   "execution_count": 217,
   "metadata": {
    "collapsed": true
   },
   "outputs": [],
   "source": [
    "y_pred=dt.predict(data)"
   ]
  },
  {
   "cell_type": "markdown",
   "metadata": {},
   "source": [
    "#### i. What are the training accuracy, precision and recall for this tree?"
   ]
  },
  {
   "cell_type": "code",
   "execution_count": 218,
   "metadata": {
    "scrolled": true
   },
   "outputs": [
    {
     "name": "stdout",
     "output_type": "stream",
     "text": [
      "The accuracy is:  1.0\n",
      "The precision is:  1.0\n",
      "The recall is:  1.0\n"
     ]
    }
   ],
   "source": [
    "def applymetrics(y, y_pred):\n",
    "    acc=accuracy_score(y, y_pred)\n",
    "    print('The accuracy is: ', acc)\n",
    "    precision=precision_score(y, y_pred)\n",
    "    print('The precision is: ', precision)\n",
    "    recall=recall_score(y, y_pred)\n",
    "    print('The recall is: ', recall)\n",
    "applymetrics(y, y_pred)"
   ]
  },
  {
   "cell_type": "markdown",
   "metadata": {},
   "source": [
    "#### ii.\tWhat are the main features used for classification? Can you explain why they make sense (or not)?"
   ]
  },
  {
   "cell_type": "code",
   "execution_count": 219,
   "metadata": {},
   "outputs": [
    {
     "data": {
      "text/html": [
       "<div>\n",
       "<style>\n",
       "    .dataframe thead tr:only-child th {\n",
       "        text-align: right;\n",
       "    }\n",
       "\n",
       "    .dataframe thead th {\n",
       "        text-align: left;\n",
       "    }\n",
       "\n",
       "    .dataframe tbody tr th {\n",
       "        vertical-align: top;\n",
       "    }\n",
       "</style>\n",
       "<table border=\"1\" class=\"dataframe\">\n",
       "  <thead>\n",
       "    <tr style=\"text-align: right;\">\n",
       "      <th></th>\n",
       "      <th>0</th>\n",
       "    </tr>\n",
       "  </thead>\n",
       "  <tbody>\n",
       "    <tr>\n",
       "      <th>PctKids2Par</th>\n",
       "      <td>0.360083</td>\n",
       "    </tr>\n",
       "    <tr>\n",
       "      <th>racePctWhite</th>\n",
       "      <td>0.088817</td>\n",
       "    </tr>\n",
       "    <tr>\n",
       "      <th>racePctHisp</th>\n",
       "      <td>0.048585</td>\n",
       "    </tr>\n",
       "    <tr>\n",
       "      <th>PctLess9thGrade</th>\n",
       "      <td>0.023569</td>\n",
       "    </tr>\n",
       "    <tr>\n",
       "      <th>PctEmplManu</th>\n",
       "      <td>0.019933</td>\n",
       "    </tr>\n",
       "  </tbody>\n",
       "</table>\n",
       "</div>"
      ],
      "text/plain": [
       "                        0\n",
       "PctKids2Par      0.360083\n",
       "racePctWhite     0.088817\n",
       "racePctHisp      0.048585\n",
       "PctLess9thGrade  0.023569\n",
       "PctEmplManu      0.019933"
      ]
     },
     "execution_count": 219,
     "metadata": {},
     "output_type": "execute_result"
    }
   ],
   "source": [
    "df=pd.DataFrame(dt.feature_importances_, data.columns)\n",
    "df.sort_values(0, ascending=False).head()"
   ]
  },
  {
   "cell_type": "markdown",
   "metadata": {},
   "source": [
    "Applying the Decisision Tree we get that the main features are:\n",
    "- percentage of kids in family housing with two parents \n",
    "- percentage of population that is caucasian\n",
    "- percentage of population that is of hispanic heritage\n",
    "- percentage of people 25 and over with less than a 9th grade education\n",
    "- percentage of people 16 and over who are employed in manufacturing \n",
    "\n",
    "The attribute that is given the highest weight is the percentage of kids in family housing with two parents, this makes sense since parents are not going to have a family in a rough area. The rest of the attributes are given a weight close to zero, but it also makes sense to use them as attributes. The higher the population  of hispanic and non-caucasian has historicly lead to a higher crime rate and there is also a higher tendency towards violence when  people are illiterate or have less studies."
   ]
  },
  {
   "cell_type": "markdown",
   "metadata": {},
   "source": [
    "## c) Cross-Validation"
   ]
  },
  {
   "cell_type": "code",
   "execution_count": 220,
   "metadata": {
    "collapsed": true
   },
   "outputs": [],
   "source": [
    "def applyCross(model, data, y, nfolds):\n",
    "    print('The accuracy is:', cross_val_score(model, data, y, cv=nfolds, scoring='accuracy').mean())\n",
    "    print('The precision is: ', cross_val_score(model, data, y, cv=nfolds, scoring='precision').mean())\n",
    "    print('The recall is: ', cross_val_score(model, data, y, cv=nfolds, scoring='recall').mean())"
   ]
  },
  {
   "cell_type": "markdown",
   "metadata": {},
   "source": [
    "#### i.\tWhat are the 10-fold cross-validation accuracy, precision, and recall?"
   ]
  },
  {
   "cell_type": "code",
   "execution_count": 221,
   "metadata": {
    "scrolled": false
   },
   "outputs": [
    {
     "name": "stdout",
     "output_type": "stream",
     "text": [
      "The accuracy is: 0.729020100503\n",
      "The precision is:  0.789205377179\n",
      "The recall is:  0.7776\n"
     ]
    }
   ],
   "source": [
    "applyCross(dt, data, y, 10)"
   ]
  },
  {
   "cell_type": "markdown",
   "metadata": {},
   "source": [
    "#### ii.\tWhy are they different from the results in the previous test?\n",
    "The results in this case are different because the data is divided into training and test. So the model has less observations to practice on and construct a better model. The previous model was clearly overfitting the data."
   ]
  },
  {
   "cell_type": "markdown",
   "metadata": {},
   "source": [
    "# 2. Linear Classification\n",
    "## a) Naïve Bayes\n",
    "#### i.\tWhat is the 10-fold cross-validation accuracy, precision, and recall for this method?"
   ]
  },
  {
   "cell_type": "code",
   "execution_count": 222,
   "metadata": {
    "scrolled": true
   },
   "outputs": [
    {
     "name": "stdout",
     "output_type": "stream",
     "text": [
      "The accuracy is: 0.761608040201\n",
      "The precision is:  0.911799814828\n",
      "The recall is:  0.692\n"
     ]
    }
   ],
   "source": [
    "naive=GaussianNB()\n",
    "applyCross(naive, data, y, 10)"
   ]
  },
  {
   "cell_type": "markdown",
   "metadata": {},
   "source": [
    "#### ii.\tWhat are the 10 most predictive features? Why do these make sense (or not)? "
   ]
  },
  {
   "cell_type": "code",
   "execution_count": 224,
   "metadata": {
    "scrolled": false
   },
   "outputs": [
    {
     "data": {
      "text/html": [
       "<div>\n",
       "<style>\n",
       "    .dataframe thead tr:only-child th {\n",
       "        text-align: right;\n",
       "    }\n",
       "\n",
       "    .dataframe thead th {\n",
       "        text-align: left;\n",
       "    }\n",
       "\n",
       "    .dataframe tbody tr th {\n",
       "        vertical-align: top;\n",
       "    }\n",
       "</style>\n",
       "<table border=\"1\" class=\"dataframe\">\n",
       "  <thead>\n",
       "    <tr style=\"text-align: right;\">\n",
       "      <th></th>\n",
       "      <th>0</th>\n",
       "    </tr>\n",
       "  </thead>\n",
       "  <tbody>\n",
       "    <tr>\n",
       "      <th>PctKids2Par</th>\n",
       "      <td>5.001310</td>\n",
       "    </tr>\n",
       "    <tr>\n",
       "      <th>FemalePctDiv</th>\n",
       "      <td>4.756886</td>\n",
       "    </tr>\n",
       "    <tr>\n",
       "      <th>PctFam2Par</th>\n",
       "      <td>4.593988</td>\n",
       "    </tr>\n",
       "    <tr>\n",
       "      <th>pctWInvInc</th>\n",
       "      <td>4.394991</td>\n",
       "    </tr>\n",
       "    <tr>\n",
       "      <th>TotalPctDiv</th>\n",
       "      <td>4.385986</td>\n",
       "    </tr>\n",
       "    <tr>\n",
       "      <th>PctTeen2Par</th>\n",
       "      <td>3.999354</td>\n",
       "    </tr>\n",
       "    <tr>\n",
       "      <th>MalePctDivorce</th>\n",
       "      <td>3.950731</td>\n",
       "    </tr>\n",
       "    <tr>\n",
       "      <th>PctYoungKids2Par</th>\n",
       "      <td>3.648301</td>\n",
       "    </tr>\n",
       "    <tr>\n",
       "      <th>PctIlleg</th>\n",
       "      <td>3.469889</td>\n",
       "    </tr>\n",
       "    <tr>\n",
       "      <th>racePctWhite</th>\n",
       "      <td>3.443228</td>\n",
       "    </tr>\n",
       "  </tbody>\n",
       "</table>\n",
       "</div>"
      ],
      "text/plain": [
       "                         0\n",
       "PctKids2Par       5.001310\n",
       "FemalePctDiv      4.756886\n",
       "PctFam2Par        4.593988\n",
       "pctWInvInc        4.394991\n",
       "TotalPctDiv       4.385986\n",
       "PctTeen2Par       3.999354\n",
       "MalePctDivorce    3.950731\n",
       "PctYoungKids2Par  3.648301\n",
       "PctIlleg          3.469889\n",
       "racePctWhite      3.443228"
      ]
     },
     "execution_count": 224,
     "metadata": {},
     "output_type": "execute_result"
    }
   ],
   "source": [
    "naive.fit(data, y)\n",
    "pred=abs(naive.theta_[0,:]-naive.theta_[1,:])/(naive.sigma_[0,:]+naive.sigma_[1,:])\n",
    "Naive_features=pd.DataFrame(pred, data.columns)\n",
    "Naive_features.sort_values(0, ascending=False).head(10)"
   ]
  },
  {
   "cell_type": "markdown",
   "metadata": {},
   "source": [
    "The most important attributes are the following: \n",
    "- percentage of kinds in family housing with two parents\n",
    "- percentage of females who are divorced\n",
    "- percentage of families (with kids) that are headed by two parents \n",
    "- percentage of households with investment / rent income in 1989 \n",
    "- percentage of population who are divorced\n",
    "- percentage of kids age 12-17 in two parent households\n",
    "- percentage of males who are divorced\n",
    "- percent of kids 4 and under in two parent households\n",
    "- percentage of kids born to never married \n",
    "- percentage of population that is caucasian \n",
    "\n",
    "In this case, the parameters have a higher weight, also they all seem to be egatively correlated with highCrime (ie. the higher their percentage, the lower the crime in that area)."
   ]
  },
  {
   "cell_type": "markdown",
   "metadata": {},
   "source": [
    "#### iii.\tHow do these results compare with your results from decision trees, above?\n",
    "Comparing the case where we applied cross validation in the decision tree, we observe that the accuracy in this case is higher which means that the model predicts better which attributes lead to a high crime. The recall is lower, this means that the model incorrectly classifies more observations as false than the decision tree."
   ]
  },
  {
   "cell_type": "markdown",
   "metadata": {},
   "source": [
    "## b) Support Vector Machine (SVM)"
   ]
  },
  {
   "cell_type": "markdown",
   "metadata": {},
   "source": [
    "#### i.\t What is the 10-fold cross-validation accuracy, precision, and recall for this method?"
   ]
  },
  {
   "cell_type": "code",
   "execution_count": 225,
   "metadata": {
    "scrolled": true
   },
   "outputs": [
    {
     "name": "stdout",
     "output_type": "stream",
     "text": [
      "The accuracy is: 0.796233668342\n",
      "The precision is:  0.845404856531\n",
      "The recall is:  0.8344\n"
     ]
    }
   ],
   "source": [
    "svm=LinearSVC(random_state=0) \n",
    "applyCross(svm, data, y, 10)"
   ]
  },
  {
   "cell_type": "markdown",
   "metadata": {},
   "source": [
    "#### ii.\tWhat are the 10 most predictive features? Why do these make sense (or not)?"
   ]
  },
  {
   "cell_type": "code",
   "execution_count": 226,
   "metadata": {},
   "outputs": [
    {
     "data": {
      "text/html": [
       "<div>\n",
       "<style>\n",
       "    .dataframe thead tr:only-child th {\n",
       "        text-align: right;\n",
       "    }\n",
       "\n",
       "    .dataframe thead th {\n",
       "        text-align: left;\n",
       "    }\n",
       "\n",
       "    .dataframe tbody tr th {\n",
       "        vertical-align: top;\n",
       "    }\n",
       "</style>\n",
       "<table border=\"1\" class=\"dataframe\">\n",
       "  <thead>\n",
       "    <tr style=\"text-align: right;\">\n",
       "      <th></th>\n",
       "      <th>0</th>\n",
       "    </tr>\n",
       "  </thead>\n",
       "  <tbody>\n",
       "    <tr>\n",
       "      <th>pctWInvInc</th>\n",
       "      <td>1.888488</td>\n",
       "    </tr>\n",
       "    <tr>\n",
       "      <th>PersPerOccupHous</th>\n",
       "      <td>1.755123</td>\n",
       "    </tr>\n",
       "    <tr>\n",
       "      <th>racePctWhite</th>\n",
       "      <td>1.500218</td>\n",
       "    </tr>\n",
       "    <tr>\n",
       "      <th>PctKids2Par</th>\n",
       "      <td>1.190327</td>\n",
       "    </tr>\n",
       "    <tr>\n",
       "      <th>RentHighQ</th>\n",
       "      <td>1.066884</td>\n",
       "    </tr>\n",
       "    <tr>\n",
       "      <th>MalePctDivorce</th>\n",
       "      <td>1.065697</td>\n",
       "    </tr>\n",
       "    <tr>\n",
       "      <th>NumUnderPov</th>\n",
       "      <td>1.051548</td>\n",
       "    </tr>\n",
       "    <tr>\n",
       "      <th>NumStreet</th>\n",
       "      <td>1.019154</td>\n",
       "    </tr>\n",
       "    <tr>\n",
       "      <th>PctOccupMgmtProf</th>\n",
       "      <td>1.014674</td>\n",
       "    </tr>\n",
       "    <tr>\n",
       "      <th>population</th>\n",
       "      <td>1.002300</td>\n",
       "    </tr>\n",
       "  </tbody>\n",
       "</table>\n",
       "</div>"
      ],
      "text/plain": [
       "                         0\n",
       "pctWInvInc        1.888488\n",
       "PersPerOccupHous  1.755123\n",
       "racePctWhite      1.500218\n",
       "PctKids2Par       1.190327\n",
       "RentHighQ         1.066884\n",
       "MalePctDivorce    1.065697\n",
       "NumUnderPov       1.051548\n",
       "NumStreet         1.019154\n",
       "PctOccupMgmtProf  1.014674\n",
       "population        1.002300"
      ]
     },
     "execution_count": 226,
     "metadata": {},
     "output_type": "execute_result"
    }
   ],
   "source": [
    "svm.fit(data, y)\n",
    "SVM_features=pd.DataFrame(abs(svm.coef_)[0], data.columns)\n",
    "SVM_features.sort_values(0, ascending=False).head(10)"
   ]
  },
  {
   "cell_type": "markdown",
   "metadata": {},
   "source": [
    "The most important attributes in this case are: \n",
    "- percentage of households with investment / rent income in 1989 \n",
    "- mean persons per household \n",
    "- percentage of population that is caucasian\n",
    "- percentage of kinds in family housing with two parents\n",
    "- rental housing - upper quartile rent\n",
    "- percentage of male who are divorced\n",
    "- number of people under the poverty level\n",
    "- number of homeless people counted in the street \n",
    "- percentage of people 16 and over who are employed in management or professional occupations \n",
    "- population for community\n",
    "\n",
    "In this case we can see that some of these features historicly have been highly correlated with high crime rate, an example of this could be the \"number of people under the poverty level and number of homeless people counted in the street\". "
   ]
  },
  {
   "cell_type": "markdown",
   "metadata": {},
   "source": [
    "#### iii.\tHow do these results compare with your results from decision trees, above?\n",
    "The accuracy is higher than in the previous cases, this makes sense because the model is using features that make more sense to a higher crime rate. Also the recall and the precision are high and their value is more or less the same. This means that from the models seen so far, this is the one that misclassifies the least (in terms of number of false negative)"
   ]
  },
  {
   "cell_type": "markdown",
   "metadata": {},
   "source": [
    "# 3. Regression\n",
    "## a) Linear Regression\n",
    "#### i.\tUsing 10-fold cross-validation, what is the estimated mean-squared-error (MSE) of the model?"
   ]
  },
  {
   "cell_type": "code",
   "execution_count": 26,
   "metadata": {},
   "outputs": [
    {
     "data": {
      "text/plain": [
       "0.020093969304445312"
      ]
     },
     "execution_count": 26,
     "metadata": {},
     "output_type": "execute_result"
    }
   ],
   "source": [
    "y2=data_clean['ViolentCrimesPerPop']\n",
    "lm=LinearRegression()\n",
    "mse1=-cross_val_score(lm, data, y2, cv=10, scoring='neg_mean_squared_error').mean() \n",
    "mse1"
   ]
  },
  {
   "cell_type": "markdown",
   "metadata": {},
   "source": [
    "#### ii.\tWhat is the MSE on the training set (train on all the data then test on it all)?"
   ]
  },
  {
   "cell_type": "code",
   "execution_count": 27,
   "metadata": {
    "scrolled": true
   },
   "outputs": [
    {
     "name": "stdout",
     "output_type": "stream",
     "text": [
      "The MSE is: 0.0165167748803\n"
     ]
    }
   ],
   "source": [
    "lm.fit(data,y2)\n",
    "y_pred2=lm.predict(data)\n",
    "mse=mean_squared_error(y2, y_pred2)\n",
    "print('The MSE is:', mse)"
   ]
  },
  {
   "cell_type": "markdown",
   "metadata": {},
   "source": [
    "In this case we get a lower error, this makes sense since the model had more data to train on"
   ]
  },
  {
   "cell_type": "markdown",
   "metadata": {},
   "source": [
    "#### iii. What features are most predictive of a high crime rate? A low crime rate?"
   ]
  },
  {
   "cell_type": "code",
   "execution_count": 28,
   "metadata": {},
   "outputs": [
    {
     "data": {
      "text/html": [
       "<div>\n",
       "<style>\n",
       "    .dataframe thead tr:only-child th {\n",
       "        text-align: right;\n",
       "    }\n",
       "\n",
       "    .dataframe thead th {\n",
       "        text-align: left;\n",
       "    }\n",
       "\n",
       "    .dataframe tbody tr th {\n",
       "        vertical-align: top;\n",
       "    }\n",
       "</style>\n",
       "<table border=\"1\" class=\"dataframe\">\n",
       "  <thead>\n",
       "    <tr style=\"text-align: right;\">\n",
       "      <th></th>\n",
       "      <th>0</th>\n",
       "    </tr>\n",
       "  </thead>\n",
       "  <tbody>\n",
       "    <tr>\n",
       "      <th>PersPerOccupHous</th>\n",
       "      <td>0.635088</td>\n",
       "    </tr>\n",
       "    <tr>\n",
       "      <th>PctHousOwnOcc</th>\n",
       "      <td>0.568133</td>\n",
       "    </tr>\n",
       "    <tr>\n",
       "      <th>MalePctDivorce</th>\n",
       "      <td>0.458517</td>\n",
       "    </tr>\n",
       "    <tr>\n",
       "      <th>PctRecImmig8</th>\n",
       "      <td>0.432511</td>\n",
       "    </tr>\n",
       "    <tr>\n",
       "      <th>MedRent</th>\n",
       "      <td>0.372728</td>\n",
       "    </tr>\n",
       "  </tbody>\n",
       "</table>\n",
       "</div>"
      ],
      "text/plain": [
       "                         0\n",
       "PersPerOccupHous  0.635088\n",
       "PctHousOwnOcc     0.568133\n",
       "MalePctDivorce    0.458517\n",
       "PctRecImmig8      0.432511\n",
       "MedRent           0.372728"
      ]
     },
     "execution_count": 28,
     "metadata": {},
     "output_type": "execute_result"
    }
   ],
   "source": [
    "LRegression_features=pd.DataFrame(lm.coef_, data.columns)\n",
    "Most_p=LRegression_features.sort_values(0, ascending=False).head()\n",
    "Least_p=LRegression_features.sort_values(0).head()\n",
    "Most_p #Most predictive features"
   ]
  },
  {
   "cell_type": "code",
   "execution_count": 29,
   "metadata": {
    "scrolled": false
   },
   "outputs": [
    {
     "data": {
      "text/html": [
       "<div>\n",
       "<style>\n",
       "    .dataframe thead tr:only-child th {\n",
       "        text-align: right;\n",
       "    }\n",
       "\n",
       "    .dataframe thead th {\n",
       "        text-align: left;\n",
       "    }\n",
       "\n",
       "    .dataframe tbody tr th {\n",
       "        vertical-align: top;\n",
       "    }\n",
       "</style>\n",
       "<table border=\"1\" class=\"dataframe\">\n",
       "  <thead>\n",
       "    <tr style=\"text-align: right;\">\n",
       "      <th></th>\n",
       "      <th>0</th>\n",
       "    </tr>\n",
       "  </thead>\n",
       "  <tbody>\n",
       "    <tr>\n",
       "      <th>PctPersOwnOccup</th>\n",
       "      <td>-0.675694</td>\n",
       "    </tr>\n",
       "    <tr>\n",
       "      <th>TotalPctDiv</th>\n",
       "      <td>-0.561924</td>\n",
       "    </tr>\n",
       "    <tr>\n",
       "      <th>whitePerCap</th>\n",
       "      <td>-0.351016</td>\n",
       "    </tr>\n",
       "    <tr>\n",
       "      <th>PctKids2Par</th>\n",
       "      <td>-0.322651</td>\n",
       "    </tr>\n",
       "    <tr>\n",
       "      <th>OwnOccLowQuart</th>\n",
       "      <td>-0.308170</td>\n",
       "    </tr>\n",
       "  </tbody>\n",
       "</table>\n",
       "</div>"
      ],
      "text/plain": [
       "                        0\n",
       "PctPersOwnOccup -0.675694\n",
       "TotalPctDiv     -0.561924\n",
       "whitePerCap     -0.351016\n",
       "PctKids2Par     -0.322651\n",
       "OwnOccLowQuart  -0.308170"
      ]
     },
     "execution_count": 29,
     "metadata": {},
     "output_type": "execute_result"
    }
   ],
   "source": [
    "Least_p #Least predictive features"
   ]
  },
  {
   "cell_type": "markdown",
   "metadata": {},
   "source": [
    "## b) Ridge Regression\n",
    "#### i.\tWhat is the estimated MSE of the model under 10-fold CV?"
   ]
  },
  {
   "cell_type": "code",
   "execution_count": 30,
   "metadata": {},
   "outputs": [
    {
     "data": {
      "text/plain": [
       "0.019795021348158991"
      ]
     },
     "execution_count": 30,
     "metadata": {},
     "output_type": "execute_result"
    }
   ],
   "source": [
    "ridge=RidgeCV(alphas=(10, 1, 0.1, 0.01, 0.001))\n",
    "mseR=-cross_val_score(ridge, data, y2, cv=10, scoring='neg_mean_squared_error').mean() \n",
    "mseR"
   ]
  },
  {
   "cell_type": "markdown",
   "metadata": {},
   "source": [
    "#### ii.\tWhat is the MSE on the training set (train on all the data then test on it all)?"
   ]
  },
  {
   "cell_type": "code",
   "execution_count": 31,
   "metadata": {
    "scrolled": true
   },
   "outputs": [
    {
     "name": "stdout",
     "output_type": "stream",
     "text": [
      "The MSE is: 0.0165167748803\n"
     ]
    }
   ],
   "source": [
    "ridge.fit(data, y2)\n",
    "ridge_pred=ridge.predict(data)\n",
    "mseRp=mean_squared_error(y2, y_pred2)\n",
    "print('The MSE is:', mseRp)"
   ]
  },
  {
   "cell_type": "markdown",
   "metadata": {},
   "source": [
    "#### iii.\tWhat is the best alpha?"
   ]
  },
  {
   "cell_type": "code",
   "execution_count": 32,
   "metadata": {},
   "outputs": [
    {
     "data": {
      "text/plain": [
       "1.0"
      ]
     },
     "execution_count": 32,
     "metadata": {},
     "output_type": "execute_result"
    }
   ],
   "source": [
    "ridge.alpha_"
   ]
  },
  {
   "cell_type": "markdown",
   "metadata": {},
   "source": [
    "#### i.\tWhat does this say about the amount of overfitting in linear regression for this problem?\n",
    "\n",
    "Since alpha can take a value from 0 to infinity, we can say that 1 means there is not much overfitting"
   ]
  },
  {
   "cell_type": "markdown",
   "metadata": {},
   "source": [
    "## c) Quadratic Polynomial Regression\n",
    "#### i.\tWhat is the estimated MSE of the model under 10-fold CV?"
   ]
  },
  {
   "cell_type": "code",
   "execution_count": 38,
   "metadata": {},
   "outputs": [
    {
     "data": {
      "text/plain": [
       "0.12990008054870189"
      ]
     },
     "execution_count": 38,
     "metadata": {},
     "output_type": "execute_result"
    }
   ],
   "source": [
    "poly=PolynomialFeatures(degree=2)\n",
    "new_data=poly.fit_transform(data)\n",
    "-cross_val_score(lm, new_data, y2, cv=10, scoring='neg_mean_squared_error').mean()"
   ]
  },
  {
   "cell_type": "markdown",
   "metadata": {},
   "source": [
    "#### ii. What is the MSE on the training set (train on all the data then test on it all)?"
   ]
  },
  {
   "cell_type": "code",
   "execution_count": 39,
   "metadata": {},
   "outputs": [
    {
     "name": "stdout",
     "output_type": "stream",
     "text": [
      "The MSE is: 9.18259450887e-29\n"
     ]
    }
   ],
   "source": [
    "lm.fit(new_data, y2)\n",
    "pol_pred=lm.predict(new_data)\n",
    "mse=mean_squared_error(y2, pol_pred)\n",
    "print('The MSE is:', mse)"
   ]
  },
  {
   "cell_type": "markdown",
   "metadata": {},
   "source": [
    "#### iii.\tDoes this mean the quadratic model is better than the linear model for this problem?\n",
    "No, the quadratic model is probably overfitting. The mse that we obtain with cross validation is more accurate since the model is testing on data that it hasn't seen. If we look at the mean squared error in this case, we observe that the value is higher than in the case of linear regression"
   ]
  },
  {
   "cell_type": "markdown",
   "metadata": {},
   "source": [
    "# 4. Dirty Data\n",
    "### a.\tAre the CV results better or worse? What does this say about the effect of missing values?"
   ]
  },
  {
   "cell_type": "code",
   "execution_count": 197,
   "metadata": {},
   "outputs": [
    {
     "data": {
      "text/plain": [
       "(1994, 128)"
      ]
     },
     "execution_count": 197,
     "metadata": {},
     "output_type": "execute_result"
    }
   ],
   "source": [
    "data_full=pd.read_csv('~/Documents/Trabajos Carlota/ERASMUS/IIT/CS595-Data Science Analytics/Project/Crime Prediction Data/communities-crime-full.csv',na_values='?')\n",
    "data_full.shape"
   ]
  },
  {
   "cell_type": "markdown",
   "metadata": {},
   "source": [
    "The number of rows is the same but there are more columns in this dataset"
   ]
  },
  {
   "cell_type": "code",
   "execution_count": 198,
   "metadata": {},
   "outputs": [
    {
     "data": {
      "text/plain": [
       "Index(['county', 'community', 'OtherPerCap', 'LemasSwornFT', 'LemasSwFTPerPop',\n",
       "       'LemasSwFTFieldOps', 'LemasSwFTFieldPerPop', 'LemasTotalReq',\n",
       "       'LemasTotReqPerPop', 'PolicReqPerOffic', 'PolicPerPop',\n",
       "       'RacialMatchCommPol', 'PctPolicWhite', 'PctPolicBlack', 'PctPolicHisp',\n",
       "       'PctPolicAsian', 'PctPolicMinor', 'OfficAssgnDrugUnits',\n",
       "       'NumKindsDrugsSeiz', 'PolicAveOTWorked', 'PolicCars', 'PolicOperBudg',\n",
       "       'LemasPctPolicOnPatr', 'LemasGangUnitDeploy', 'PolicBudgPerPop'],\n",
       "      dtype='object')"
      ]
     },
     "execution_count": 198,
     "metadata": {},
     "output_type": "execute_result"
    }
   ],
   "source": [
    "null_columns=data_full.columns[data_full.isnull().any()]\n",
    "null_columns #columns with null attributes"
   ]
  },
  {
   "cell_type": "code",
   "execution_count": 199,
   "metadata": {
    "collapsed": true
   },
   "outputs": [],
   "source": [
    "for i in range(len(null_columns)):\n",
    "    data_full[null_columns[i]].fillna(data_full[null_columns[i]].mean(), inplace=True)\n"
   ]
  },
  {
   "cell_type": "code",
   "execution_count": 202,
   "metadata": {
    "collapsed": true
   },
   "outputs": [],
   "source": [
    "data_full=data_full.drop(['state', 'county', 'community', 'fold', 'communityname'],1)\n",
    "#We have to create the variable highCrime again:\n",
    "data_full['highCrime']=(data_full.ViolentCrimesPerPop>0.1)\n",
    "y=np.asarray(data_full['highCrime'])\n",
    "data_full=data_full.drop(['highCrime', 'ViolentCrimesPerPop'], 1)\n"
   ]
  },
  {
   "cell_type": "code",
   "execution_count": 205,
   "metadata": {},
   "outputs": [
    {
     "name": "stdout",
     "output_type": "stream",
     "text": [
      "The accuracy is:  1.0\n",
      "The precision is:  1.0\n",
      "The recall is:  1.0\n"
     ]
    }
   ],
   "source": [
    "#First we use all the data for training and testing\n",
    "dt.fit(data_full, y)\n",
    "y_pred=dt.predict(data_full)\n",
    "applymetrics(y, y_pred)"
   ]
  },
  {
   "cell_type": "code",
   "execution_count": 207,
   "metadata": {},
   "outputs": [
    {
     "data": {
      "text/html": [
       "<div>\n",
       "<style>\n",
       "    .dataframe thead tr:only-child th {\n",
       "        text-align: right;\n",
       "    }\n",
       "\n",
       "    .dataframe thead th {\n",
       "        text-align: left;\n",
       "    }\n",
       "\n",
       "    .dataframe tbody tr th {\n",
       "        vertical-align: top;\n",
       "    }\n",
       "</style>\n",
       "<table border=\"1\" class=\"dataframe\">\n",
       "  <thead>\n",
       "    <tr style=\"text-align: right;\">\n",
       "      <th></th>\n",
       "      <th>0</th>\n",
       "    </tr>\n",
       "  </thead>\n",
       "  <tbody>\n",
       "    <tr>\n",
       "      <th>PctKids2Par</th>\n",
       "      <td>0.362240</td>\n",
       "    </tr>\n",
       "    <tr>\n",
       "      <th>racePctWhite</th>\n",
       "      <td>0.089055</td>\n",
       "    </tr>\n",
       "    <tr>\n",
       "      <th>racePctHisp</th>\n",
       "      <td>0.050001</td>\n",
       "    </tr>\n",
       "    <tr>\n",
       "      <th>PctLess9thGrade</th>\n",
       "      <td>0.020450</td>\n",
       "    </tr>\n",
       "    <tr>\n",
       "      <th>MedRent</th>\n",
       "      <td>0.019161</td>\n",
       "    </tr>\n",
       "  </tbody>\n",
       "</table>\n",
       "</div>"
      ],
      "text/plain": [
       "                        0\n",
       "PctKids2Par      0.362240\n",
       "racePctWhite     0.089055\n",
       "racePctHisp      0.050001\n",
       "PctLess9thGrade  0.020450\n",
       "MedRent          0.019161"
      ]
     },
     "execution_count": 207,
     "metadata": {},
     "output_type": "execute_result"
    }
   ],
   "source": [
    "df=pd.DataFrame(dt.feature_importances_, data_full.columns)\n",
    "df.sort_values(0, ascending=False).head()"
   ]
  },
  {
   "cell_type": "code",
   "execution_count": 206,
   "metadata": {},
   "outputs": [
    {
     "name": "stdout",
     "output_type": "stream",
     "text": [
      "The accuracy is: 0.761765331633\n",
      "The precision is:  0.813537877163\n",
      "The recall is:  0.80493968254\n"
     ]
    }
   ],
   "source": [
    "applyCross(dt, data_full, y, 10)"
   ]
  },
  {
   "cell_type": "markdown",
   "metadata": {},
   "source": [
    "The results of Cross Validation are better than those obtained previously, the reason for this is that we substituted the missing values for a the average of each column. Even though these aren't the actual results, the rest of the values of the attributes would provide more information so that we can create a better model."
   ]
  }
 ],
 "metadata": {
  "kernelspec": {
   "display_name": "Python 3",
   "language": "python",
   "name": "python3"
  },
  "language_info": {
   "codemirror_mode": {
    "name": "ipython",
    "version": 3
   },
   "file_extension": ".py",
   "mimetype": "text/x-python",
   "name": "python",
   "nbconvert_exporter": "python",
   "pygments_lexer": "ipython3",
   "version": "3.6.1"
  }
 },
 "nbformat": 4,
 "nbformat_minor": 2
}
